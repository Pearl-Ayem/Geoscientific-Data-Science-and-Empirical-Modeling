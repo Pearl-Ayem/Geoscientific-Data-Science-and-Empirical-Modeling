{
 "cells": [
  {
   "cell_type": "code",
   "execution_count": 1,
   "metadata": {},
   "outputs": [],
   "source": [
    "from pathlib import Path\n",
    "import pprint\n",
    "import matplotlib.pyplot as plt\n",
    "import pandas as pd\n",
    "import seaborn as sns\n",
    "from sklearn import linear_model\n",
    "import numpy as np\n",
    "from scipy.stats import linregress\n",
    "import statsmodels.api as sm\n",
    "import itertools\n",
    "import warnings\n",
    "warnings.filterwarnings('ignore')"
   ]
  },
  {
   "cell_type": "code",
   "execution_count": 2,
   "metadata": {},
   "outputs": [],
   "source": [
    "col_names=['x1','x2','x3','x4']\n",
    "df = pd.read_csv('PCA.csv', \n",
    "                 sep=\",\", \n",
    "                 skiprows=0,\n",
    "                 names=col_names)"
   ]
  },
  {
   "cell_type": "markdown",
   "metadata": {},
   "source": [
    "- a) Plot the time series for each variable. [1 point for the plot(s)] \n",
    "- b) Perform PCA on the data. [1 point for correct size of input data and correct output of PCA] \n",
    "- c) Find which modes you want to keep in order to reconstruct the data and provide a rationale for your selection. [1 point for the choice of modes and 1 point for the rationale]. \n",
    "- d) Plot the PCs of the significant modes (i.e. those that you kept) in time. Briefly discuss the results (what are these plots telling you?) [1 point for the plot(s) and 1 point for the discussion.] \n",
    "- e) Plot PC1 vs PC2.  Discuss any feature that you find interesting.  [1 point for the plot, 1 point for the discussion.] \n",
    " "
   ]
  },
  {
   "cell_type": "markdown",
   "metadata": {},
   "source": [
    "### Plot the time series for each variable"
   ]
  },
  {
   "cell_type": "code",
   "execution_count": null,
   "metadata": {},
   "outputs": [],
   "source": []
  }
 ],
 "metadata": {
  "kernelspec": {
   "display_name": "Python 3",
   "language": "python",
   "name": "python3"
  },
  "language_info": {
   "codemirror_mode": {
    "name": "ipython",
    "version": 3
   },
   "file_extension": ".py",
   "mimetype": "text/x-python",
   "name": "python",
   "nbconvert_exporter": "python",
   "pygments_lexer": "ipython3",
   "version": "3.7.3"
  }
 },
 "nbformat": 4,
 "nbformat_minor": 2
}
