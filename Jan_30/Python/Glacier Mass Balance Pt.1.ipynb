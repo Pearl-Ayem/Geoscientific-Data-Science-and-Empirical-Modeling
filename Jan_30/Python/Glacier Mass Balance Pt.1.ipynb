{
 "cells": [
  {
   "cell_type": "code",
   "execution_count": 9,
   "metadata": {},
   "outputs": [],
   "source": [
    "# Units of variables given in the dataset:\n",
    "#    elevation: meters above sea level\n",
    "#    g: mm water equivalent per meter (db/dz)\n",
    "#    continentality: degrees Celsius\n",
    "#    cloud cover: percentage\n",
    "#    summer temperature: degrees Celsius\n",
    "#    precipitation: mm per year\n",
    "#    average winter precipitation: mm per month \n",
    "\n",
    "# NOTE: climate variables are given from climatological gridded data (CRU) provided for the whole globe on ca 50x50 km grid\n",
    "#\n",
    "# Variables:\n",
    "#                       g: [1x136 double]  glacier mass balance gradient (as an average over the observed period)\n",
    "#        median_elevation: [1x136 double]  Median glacier elevation (derived from glacier hypsometry: glacier area vs elevation)\n",
    "#      summer_temperature: [1x136 double]  Summer near-surface air temperature over a grid cell (ca 50x50 km) covering the glacier (averaged over the observed period)\n",
    "#           precipitation: [1x136 double]  Total annaul precipitation over a grid cell (ca 50x50 km) covering the glacier (averaged over the observed period)\n",
    "#                     lat: [1x136 double]  Geographical latitude of the glacier (in degrees)\n",
    "#           max_elevation: [1x136 double]  Maximum glacier elevation\n",
    "#                 WGMS ID: [1x136 int64]   Given glacier ID (from World Glacier Monitoring Service)\n",
    "#    winter_precipitation: [1x136 double]  Same as for precipation but derived only over winter months \n",
    "#                     lon: [1x136 double]  Geographical longitude of the glacier (in degrees)\n",
    "#             cloud_cover: [1x136 double]  Annual cloud cover over a grid cell (ca 50x50 km) covering the glacier (averaged over the observed period)\n",
    "#          continentality: [1x136 double]  Maximum monthly temperature minus minimum monthly temperature over a year (over a grid cell covering the glacier and averaged over the observed period). The larger the continentality index the climate is more continental (rather than maritime). \n"
   ]
  },
  {
   "cell_type": "code",
   "execution_count": 17,
   "metadata": {},
   "outputs": [],
   "source": [
    "#import all required libraries etc\n",
    "\n",
    "import pandas as pd\n",
    "import numpy as np\n",
    "import matplotlib.pyplot as plt\n",
    "from sklearn.decomposition import PCA\n",
    "import ipywidgets\n",
    "\n",
    "\n",
    "#NOTE: to get ipywidgets to work, need to enter the following into the command line:\n",
    "#    conda install -c conda-forge ipywidgets\n",
    "#    conda install -c conda-forge nodejs\n",
    "#    jupyter lab --version\n",
    "#Based on the version of jupyter lab, check https://npm.taobao.org/package/@jupyter-widgets/jupyterlab-manager for next command\n",
    "#The final command should look something like:\n",
    "#    jupyter labextension install @jupyter-widgets/jupyterlab-manager@1.0\n",
    "#where the -manager@XX changes based on the version of jupyter that you have"
   ]
  },
  {
   "cell_type": "code",
   "execution_count": 18,
   "metadata": {},
   "outputs": [
    {
     "data": {
      "text/html": [
       "<div>\n",
       "<style scoped>\n",
       "    .dataframe tbody tr th:only-of-type {\n",
       "        vertical-align: middle;\n",
       "    }\n",
       "\n",
       "    .dataframe tbody tr th {\n",
       "        vertical-align: top;\n",
       "    }\n",
       "\n",
       "    .dataframe thead th {\n",
       "        text-align: right;\n",
       "    }\n",
       "</style>\n",
       "<table border=\"1\" class=\"dataframe\">\n",
       "  <thead>\n",
       "    <tr style=\"text-align: right;\">\n",
       "      <th></th>\n",
       "      <th>g</th>\n",
       "      <th>median_elevation</th>\n",
       "      <th>summer_temperature</th>\n",
       "      <th>precipitation</th>\n",
       "      <th>lat</th>\n",
       "      <th>max_elevation</th>\n",
       "      <th>winter_precipitation</th>\n",
       "      <th>lon</th>\n",
       "      <th>cloud_cover</th>\n",
       "      <th>continentality</th>\n",
       "    </tr>\n",
       "  </thead>\n",
       "  <tbody>\n",
       "    <tr>\n",
       "      <th>0</th>\n",
       "      <td>8.102728</td>\n",
       "      <td>1071.00</td>\n",
       "      <td>7.626667</td>\n",
       "      <td>483.990</td>\n",
       "      <td>-54.78</td>\n",
       "      <td>1172.5</td>\n",
       "      <td>36.273333</td>\n",
       "      <td>-68.40</td>\n",
       "      <td>63.393750</td>\n",
       "      <td>8.395</td>\n",
       "    </tr>\n",
       "    <tr>\n",
       "      <th>1</th>\n",
       "      <td>1.860170</td>\n",
       "      <td>2660.00</td>\n",
       "      <td>11.663333</td>\n",
       "      <td>1637.810</td>\n",
       "      <td>47.04</td>\n",
       "      <td>2950.0</td>\n",
       "      <td>91.578333</td>\n",
       "      <td>12.97</td>\n",
       "      <td>61.731667</td>\n",
       "      <td>18.830</td>\n",
       "    </tr>\n",
       "    <tr>\n",
       "      <th>2</th>\n",
       "      <td>9.194071</td>\n",
       "      <td>2560.00</td>\n",
       "      <td>14.881667</td>\n",
       "      <td>1521.845</td>\n",
       "      <td>47.48</td>\n",
       "      <td>2910.0</td>\n",
       "      <td>83.785000</td>\n",
       "      <td>13.62</td>\n",
       "      <td>61.529583</td>\n",
       "      <td>20.045</td>\n",
       "    </tr>\n",
       "    <tr>\n",
       "      <th>3</th>\n",
       "      <td>4.162200</td>\n",
       "      <td>3039.75</td>\n",
       "      <td>11.683333</td>\n",
       "      <td>1550.760</td>\n",
       "      <td>46.80</td>\n",
       "      <td>3715.5</td>\n",
       "      <td>93.790000</td>\n",
       "      <td>10.77</td>\n",
       "      <td>62.957083</td>\n",
       "      <td>18.725</td>\n",
       "    </tr>\n",
       "    <tr>\n",
       "      <th>4</th>\n",
       "      <td>4.411077</td>\n",
       "      <td>2795.00</td>\n",
       "      <td>10.561667</td>\n",
       "      <td>1726.480</td>\n",
       "      <td>46.85</td>\n",
       "      <td>3140.0</td>\n",
       "      <td>110.065000</td>\n",
       "      <td>10.15</td>\n",
       "      <td>64.265417</td>\n",
       "      <td>17.855</td>\n",
       "    </tr>\n",
       "  </tbody>\n",
       "</table>\n",
       "</div>"
      ],
      "text/plain": [
       "          g  median_elevation  summer_temperature  precipitation    lat  \\\n",
       "0  8.102728           1071.00            7.626667        483.990 -54.78   \n",
       "1  1.860170           2660.00           11.663333       1637.810  47.04   \n",
       "2  9.194071           2560.00           14.881667       1521.845  47.48   \n",
       "3  4.162200           3039.75           11.683333       1550.760  46.80   \n",
       "4  4.411077           2795.00           10.561667       1726.480  46.85   \n",
       "\n",
       "   max_elevation  winter_precipitation    lon  cloud_cover  continentality  \n",
       "0         1172.5             36.273333 -68.40    63.393750           8.395  \n",
       "1         2950.0             91.578333  12.97    61.731667          18.830  \n",
       "2         2910.0             83.785000  13.62    61.529583          20.045  \n",
       "3         3715.5             93.790000  10.77    62.957083          18.725  \n",
       "4         3140.0            110.065000  10.15    64.265417          17.855  "
      ]
     },
     "execution_count": 18,
     "metadata": {},
     "output_type": "execute_result"
    }
   ],
   "source": [
    "#load the data and check it out\n",
    "\n",
    "data = pd.read_csv('glaciers.csv')\n",
    "data.head()"
   ]
  },
  {
   "cell_type": "code",
   "execution_count": 19,
   "metadata": {},
   "outputs": [],
   "source": [
    "#clean data -- g<0 is non physical and this data point should be removed\n",
    "\n",
    "data = data.drop(np.argwhere(data['g']<0)[0])"
   ]
  },
  {
   "cell_type": "code",
   "execution_count": 20,
   "metadata": {},
   "outputs": [
    {
     "data": {
      "text/html": [
       "<div>\n",
       "<style scoped>\n",
       "    .dataframe tbody tr th:only-of-type {\n",
       "        vertical-align: middle;\n",
       "    }\n",
       "\n",
       "    .dataframe tbody tr th {\n",
       "        vertical-align: top;\n",
       "    }\n",
       "\n",
       "    .dataframe thead th {\n",
       "        text-align: right;\n",
       "    }\n",
       "</style>\n",
       "<table border=\"1\" class=\"dataframe\">\n",
       "  <thead>\n",
       "    <tr style=\"text-align: right;\">\n",
       "      <th></th>\n",
       "      <th>g</th>\n",
       "      <th>median_elevation</th>\n",
       "      <th>summer_temperature</th>\n",
       "      <th>precipitation</th>\n",
       "      <th>lat</th>\n",
       "      <th>max_elevation</th>\n",
       "      <th>winter_precipitation</th>\n",
       "      <th>lon</th>\n",
       "      <th>cloud_cover</th>\n",
       "      <th>continentality</th>\n",
       "    </tr>\n",
       "  </thead>\n",
       "  <tbody>\n",
       "    <tr>\n",
       "      <th>0</th>\n",
       "      <td>0.729295</td>\n",
       "      <td>-1.127617</td>\n",
       "      <td>-0.610002</td>\n",
       "      <td>-1.008986</td>\n",
       "      <td>-4.510634</td>\n",
       "      <td>-1.305564</td>\n",
       "      <td>-0.826765</td>\n",
       "      <td>-0.917411</td>\n",
       "      <td>-0.073330</td>\n",
       "      <td>-1.567918</td>\n",
       "    </tr>\n",
       "    <tr>\n",
       "      <th>1</th>\n",
       "      <td>-1.252792</td>\n",
       "      <td>0.077903</td>\n",
       "      <td>0.303656</td>\n",
       "      <td>0.634920</td>\n",
       "      <td>-0.009790</td>\n",
       "      <td>0.000761</td>\n",
       "      <td>0.080425</td>\n",
       "      <td>0.221562</td>\n",
       "      <td>-0.285946</td>\n",
       "      <td>-0.270948</td>\n",
       "    </tr>\n",
       "    <tr>\n",
       "      <th>2</th>\n",
       "      <td>1.075809</td>\n",
       "      <td>0.002036</td>\n",
       "      <td>1.032093</td>\n",
       "      <td>0.469699</td>\n",
       "      <td>0.009659</td>\n",
       "      <td>-0.028636</td>\n",
       "      <td>-0.047412</td>\n",
       "      <td>0.230660</td>\n",
       "      <td>-0.311797</td>\n",
       "      <td>-0.119936</td>\n",
       "    </tr>\n",
       "    <tr>\n",
       "      <th>3</th>\n",
       "      <td>-0.521870</td>\n",
       "      <td>0.366006</td>\n",
       "      <td>0.308183</td>\n",
       "      <td>0.510896</td>\n",
       "      <td>-0.020399</td>\n",
       "      <td>0.563344</td>\n",
       "      <td>0.116703</td>\n",
       "      <td>0.190768</td>\n",
       "      <td>-0.129189</td>\n",
       "      <td>-0.283999</td>\n",
       "    </tr>\n",
       "    <tr>\n",
       "      <th>4</th>\n",
       "      <td>-0.442849</td>\n",
       "      <td>0.180323</td>\n",
       "      <td>0.054305</td>\n",
       "      <td>0.761253</td>\n",
       "      <td>-0.018189</td>\n",
       "      <td>0.140396</td>\n",
       "      <td>0.383669</td>\n",
       "      <td>0.182089</td>\n",
       "      <td>0.038174</td>\n",
       "      <td>-0.392131</td>\n",
       "    </tr>\n",
       "  </tbody>\n",
       "</table>\n",
       "</div>"
      ],
      "text/plain": [
       "          g  median_elevation  summer_temperature  precipitation       lat  \\\n",
       "0  0.729295         -1.127617           -0.610002      -1.008986 -4.510634   \n",
       "1 -1.252792          0.077903            0.303656       0.634920 -0.009790   \n",
       "2  1.075809          0.002036            1.032093       0.469699  0.009659   \n",
       "3 -0.521870          0.366006            0.308183       0.510896 -0.020399   \n",
       "4 -0.442849          0.180323            0.054305       0.761253 -0.018189   \n",
       "\n",
       "   max_elevation  winter_precipitation       lon  cloud_cover  continentality  \n",
       "0      -1.305564             -0.826765 -0.917411    -0.073330       -1.567918  \n",
       "1       0.000761              0.080425  0.221562    -0.285946       -0.270948  \n",
       "2      -0.028636             -0.047412  0.230660    -0.311797       -0.119936  \n",
       "3       0.563344              0.116703  0.190768    -0.129189       -0.283999  \n",
       "4       0.140396              0.383669  0.182089     0.038174       -0.392131  "
      ]
     },
     "execution_count": 20,
     "metadata": {},
     "output_type": "execute_result"
    }
   ],
   "source": [
    "#normalize data and check it out\n",
    "\n",
    "data_norm = (data - data.mean())/data.std()\n",
    "data_norm.head()"
   ]
  },
  {
   "cell_type": "code",
   "execution_count": 14,
   "metadata": {},
   "outputs": [
    {
     "data": {
      "image/png": "[encoded data removed]",
      "text/plain": [
       "<Figure size 1080x288 with 2 Axes>"
      ]
     },
     "metadata": {
      "needs_background": "light"
     },
     "output_type": "display_data"
    }
   ],
   "source": [
    "#visualize normalization\n",
    "\n",
    "plt.figure(figsize=[15,4])\n",
    "\n",
    "plt.subplot(1,2,1)\n",
    "plt.plot(data['g'])\n",
    "plt.plot(data_norm['g'])\n",
    "plt.legend(['Raw data','Normalized'])\n",
    "plt.ylabel('g')\n",
    "plt.xlabel('glacier')\n",
    "plt.title('Visualizing Normalization')\n",
    "\n",
    "plt.subplot(1,2,2)\n",
    "plt.scatter(data['g'],data_norm['g'])\n",
    "plt.ylabel('g_norm')\n",
    "plt.xlabel('g')\n",
    "plt.title('Visualizing Normalization')\n",
    "\n",
    "plt.show()"
   ]
  },
  {
   "cell_type": "code",
   "execution_count": 15,
   "metadata": {},
   "outputs": [],
   "source": [
    "#unpack normalized data\n",
    "lat = data_norm['lat']\n",
    "lon = data_norm['lon']\n",
    "hmax = data_norm['max_elevation']\n",
    "hmed = data_norm['median_elevation']\n",
    "g = data_norm['g']\n",
    "Pannual = data_norm['precipitation']\n",
    "Pwinter = data_norm['winter_precipitation']\n",
    "CI = data_norm['continentality']\n",
    "cloud = data_norm['cloud_cover']\n",
    "Tsummer = data_norm['summer_temperature']"
   ]
  },
  {
   "cell_type": "markdown",
   "metadata": {},
   "source": [
    "SOLUTIONS"
   ]
  },
  {
   "cell_type": "markdown",
   "metadata": {},
   "source": [
    "###  What are the most characteristic features in the space of these variables? \n",
    "m=10, n=136 -> 10 dimensions and 136 samples"
   ]
  },
  {
   "cell_type": "code",
   "execution_count": 32,
   "metadata": {},
   "outputs": [
    {
     "name": "stdout",
     "output_type": "stream",
     "text": [
      "(135, 10)\n",
      "0.8037184739608856\n"
     ]
    }
   ],
   "source": [
    "## We want to run PCA\n",
    "print(np.shape(data_norm))\n",
    "n_modes = np.min(np.shape(data_norm))\n",
    "pca = PCA(n_components = n_modes)\n",
    "PCs = pca.fit_transform(data_norm.T)\n",
    "eigvecs = pca.components_\n",
    "fracVar = pca.explained_variance_ratio_\n",
    "print(np.sum(fracVar[:3]))  #sum of the first 3 modes = total percent variance explained by the first 3"
   ]
  },
  {
   "cell_type": "code",
   "execution_count": 34,
   "metadata": {},
   "outputs": [
    {
     "data": {
      "image/png": "[encoded data removed]",
      "text/plain": [
       "<Figure size 720x360 with 2 Axes>"
      ]
     },
     "metadata": {
      "needs_background": "light"
     },
     "output_type": "display_data"
    }
   ],
   "source": [
    "#plot fraction of variance explained by each mode\n",
    "\n",
    "plt.figure(figsize=(10,5))\n",
    "\n",
    "plt.subplot(1,2,1)\n",
    "plt.scatter(range(len(fracVar)),fracVar)\n",
    "plt.xlabel('Mode Number')\n",
    "plt.ylabel('Fraction Variance Explained')\n",
    "plt.title('Variance Explained by All Modes')\n",
    "\n",
    "plt.subplot(1,2,2)\n",
    "n_modes_show = 3\n",
    "plt.scatter(range(n_modes_show),fracVar[:n_modes_show])\n",
    "plt.xlabel('Mode Number')\n",
    "plt.ylabel('Fraction Variance Explained')\n",
    "plt.title('Variance Explained by First ' + str(n_modes_show) + ' Modes')\n",
    "\n",
    "plt.tight_layout()\n",
    "\n",
    "plt.show()"
   ]
  },
  {
   "cell_type": "markdown",
   "metadata": {},
   "source": [
    "## Most characteristic features should be the first 3 "
   ]
  },
  {
   "cell_type": "code",
   "execution_count": null,
   "metadata": {},
   "outputs": [],
   "source": [
    "#plot the first n modes and PCs -- choose a value of 'n' from the variance explained figure!\n",
    "\n",
    "n = 3\n",
    "\n",
    "plt.figure(figsize=(15,5*n))\n",
    "for kk in range(n):\n",
    "    \n",
    "    plt.subplot(n,2,kk*2+1)\n",
    "    plt.imshow(np.flipud(np.reshape(eigvecs[kk],(Ny,Nx))),extent = extent,cmap='RdBu_r')\n",
    "    plt.plot(x_coast_NARR,y_coast_NARR,color='k')\n",
    "    plt.xlabel('Longitude')\n",
    "    plt.ylabel('Latitude')\n",
    "    plt.xlim((np.nanmin(x_NARR), np.nanmax(x_NARR)))\n",
    "    plt.ylim((np.nanmin(y_NARR), np.nanmax(y_NARR)))\n",
    "    plt.tick_params(labelbottom=False, labelleft=False)\n",
    "    plt.title('Eigenvector of Mode #' + str(kk+1))\n",
    "    \n",
    "    plt.subplot(n,2,(kk+1)*2)\n",
    "    plt.plot(PCs[:,kk])\n",
    "    plt.title('PCs of Mode #' + str(kk+1))\n",
    "    plt.xlabel('Day')\n",
    "    \n",
    "plt.tight_layout()"
   ]
  }
 ],
 "metadata": {
  "kernelspec": {
   "display_name": "Python 3",
   "language": "python",
   "name": "python3"
  },
  "language_info": {
   "codemirror_mode": {
    "name": "ipython",
    "version": 3
   },
   "file_extension": ".py",
   "mimetype": "text/x-python",
   "name": "python",
   "nbconvert_exporter": "python",
   "pygments_lexer": "ipython3",
   "version": "3.7.3"
  }
 },
 "nbformat": 4,
 "nbformat_minor": 4
}
